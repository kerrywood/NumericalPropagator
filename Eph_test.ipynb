{
 "cells": [
  {
   "cell_type": "markdown",
   "id": "f7e865e1-2cbd-42a4-8f08-c33abac96658",
   "metadata": {},
   "source": [
    "# SpaceX Epehmerides Test"
   ]
  },
  {
   "cell_type": "code",
   "execution_count": null,
   "id": "73f8a9cb-712b-4f2b-bda8-7c3608ad262a",
   "metadata": {},
   "outputs": [],
   "source": [
    "from datetime import datetime, timedelta\n",
    "import numpy as np\n",
    "import json\n",
    "import astropy.time\n",
    "import astropy.units as u\n",
    "import pandas as pd\n",
    "import matplotlib.pyplot as plt\n",
    "\n",
    "from scipy.integrate import DOP853, solve_ivp\n",
    "\n",
    "import perturbations"
   ]
  },
  {
   "cell_type": "code",
   "execution_count": null,
   "id": "a4129248-402d-4ed3-aead-86a160f67852",
   "metadata": {},
   "outputs": [],
   "source": [
    "truth_eph             = pd.read_csv('./test/spacex_test.csv')\n",
    "truth_eph['time_dt']  = pd.to_datetime( truth_eph['time'] )\n",
    "epoch                 = truth_eph.iloc[0]['time_dt']\n",
    "truth_eph['tof']      = truth_eph['time_dt'].apply( lambda T: (T-epoch).total_seconds() )\n",
    "total_tof             = ( truth_eph.iloc[-1]['time_dt'] - epoch ).total_seconds()\n",
    "print('I see {:5.2f} hours , {} seconds of ephemeris'.format( total_tof/(60*60), total_tof ) )"
   ]
  },
  {
   "cell_type": "code",
   "execution_count": null,
   "id": "950fa65f-d649-45a7-9d2c-c2f31f3d0fda",
   "metadata": {},
   "outputs": [],
   "source": [
    "# find the windows of the ephemeris\n",
    "D1 = astropy.time.Time(truth_eph['time_dt'].iloc[0])\n",
    "D2 = astropy.time.Time(truth_eph['time_dt'].iloc[-1])\n",
    "\n",
    "# get the initial state vector\n",
    "init_sv = truth_eph.iloc[0][ ['x','y','z','dx','dy','dz'] ].values\n",
    "print('Initial state vector: {}'.format( init_sv ) )\n",
    "\n",
    "# perturbations holder\n",
    "P = perturbations.perturbations( D1, D2 )\n",
    "P.addAll()\n",
    "# P.addMoon()\n",
    "# P.addJ2()\n",
    "# P.addJ3()\n",
    "# P.addAtmosphereExponential()\n",
    "\n",
    "result = solve_ivp(\n",
    "    P,\n",
    "    (0, total_tof),\n",
    "    init_sv,\n",
    "    args=(),\n",
    "    rtol=1e-10,\n",
    "    atol=1e-12,\n",
    "    method=DOP853,\n",
    "    dense_output=True,\n",
    "    events=None,\n",
    ")"
   ]
  },
  {
   "cell_type": "code",
   "execution_count": null,
   "id": "f5ae8967-abcb-4a4d-ac7e-cfd730f27584",
   "metadata": {},
   "outputs": [],
   "source": [
    "err_vals = []\n",
    "for i,R in truth_eph.iterrows():\n",
    "    teph = R[['x','y','z','dx','dy','dz']].values \n",
    "    ivp_r = result.sol( R['tof'] )\n",
    "    err = teph - ivp_r\n",
    "    err_vals.append( np.linalg.norm( err[:3] ) )"
   ]
  },
  {
   "cell_type": "code",
   "execution_count": null,
   "id": "2ba27a39-4396-45a5-a6d2-dce6a5e958f7",
   "metadata": {},
   "outputs": [],
   "source": [
    "plt.close('all')\n",
    "plt.figure( figsize=(15,5) )\n",
    "plt.plot( truth_eph['tof']/86400, err_vals )\n",
    "plt.grid()\n",
    "plt.xlabel('Days since epoch (epoch : {})'.format( epoch ))\n",
    "plt.ylabel('Total position error (km)')"
   ]
  },
  {
   "cell_type": "code",
   "execution_count": null,
   "id": "38691ad7-33dc-4ebf-891e-f3fa91986582",
   "metadata": {},
   "outputs": [],
   "source": []
  },
  {
   "cell_type": "code",
   "execution_count": null,
   "id": "03857358-6ff0-4849-9480-0bbdad99665c",
   "metadata": {},
   "outputs": [],
   "source": []
  },
  {
   "cell_type": "code",
   "execution_count": null,
   "id": "9912e05e-14d4-488f-9d15-b7db04dcc914",
   "metadata": {},
   "outputs": [],
   "source": []
  }
 ],
 "metadata": {
  "kernelspec": {
   "display_name": "Python 3 (ipykernel)",
   "language": "python",
   "name": "python3"
  },
  "language_info": {
   "codemirror_mode": {
    "name": "ipython",
    "version": 3
   },
   "file_extension": ".py",
   "mimetype": "text/x-python",
   "name": "python",
   "nbconvert_exporter": "python",
   "pygments_lexer": "ipython3",
   "version": "3.10.12"
  }
 },
 "nbformat": 4,
 "nbformat_minor": 5
}
