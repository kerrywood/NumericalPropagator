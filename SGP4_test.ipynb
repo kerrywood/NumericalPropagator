{
 "cells": [
  {
   "cell_type": "markdown",
   "id": "dded0408-0af5-40bd-8623-4c007d214d07",
   "metadata": {},
   "source": [
    "# SGP4 test\n",
    "\n",
    "Kerry N. Wood  (kerry.wood@asterism.ai)\n",
    "\n",
    "Nov 24, 2024\n",
    "\n",
    "- load a TLE and propagate to epoch\n",
    "- convert to GCRS / J2K to compare our numerical propagator\n",
    "- propgate\n",
    "- do necessary conversions and check"
   ]
  },
  {
   "cell_type": "code",
   "execution_count": null,
   "id": "73f8a9cb-712b-4f2b-bda8-7c3608ad262a",
   "metadata": {},
   "outputs": [],
   "source": [
    "from datetime import datetime, timedelta\n",
    "import numpy as np\n",
    "import astropy.time\n",
    "import astropy.units as u\n",
    "import matplotlib.pyplot as plt\n",
    "\n",
    "from scipy.integrate import DOP853, solve_ivp\n",
    "\n",
    "import perturbations"
   ]
  },
  {
   "cell_type": "code",
   "execution_count": null,
   "id": "fb0d62bd-cd50-45de-b3df-2f132c82a97c",
   "metadata": {},
   "outputs": [],
   "source": [
    "from sgp4.io import twoline2rv\n",
    "from sgp4.earth_gravity import wgs72\n",
    "from sgp4.propagation import sgp4 as sgprop"
   ]
  },
  {
   "cell_type": "code",
   "execution_count": null,
   "id": "63acb0ca-f35f-4b76-9a0b-bf7009d1da85",
   "metadata": {},
   "outputs": [],
   "source": [
    "#  set some dates to propagate through\n",
    "D1 = astropy.time.Time( datetime.utcnow() )\n",
    "D2 = astropy.time.Time( D1 + timedelta( days=7 ) )\n",
    "# the propagator works in seconds, SGP4 in minutes\n",
    "tof = (D2.jd - D1.jd) * 86400\n",
    "mins = tof / 60\n",
    "# mins = (D2.jd - D1.jd) * 1440\n",
    "tof_m = np.arange( 0, mins )"
   ]
  },
  {
   "cell_type": "code",
   "execution_count": null,
   "id": "8a2b8d3a-f777-4141-b95d-82b88854c641",
   "metadata": {},
   "outputs": [],
   "source": [
    "# TDRS\n",
    "L1 = '1 19548U 88091B   24323.92763896 -.00000302  00000-0  00000-0 0  9993'\n",
    "L2 = '2 19548  13.0440 344.8504 0039877 334.9474  23.6985  1.00266577119612'\n",
    "# ISS\n",
    "# L1 = '1 25544U 98067A   24324.73133691  .00020413  00000-0  36471-3 0  9992'\n",
    "# L2 = '2 25544  51.6392 264.7752 0007360 236.8865 190.0358 15.49979680482676'\n",
    "\n",
    "# find some test data\n",
    "tleo = twoline2rv( L1, L2, wgs72 )\n",
    "\n",
    "# convert this ephemeris to our frame; get the satellite epoch from the TLE\n",
    "tle_atime = astropy.time.Time( tleo.jdsatepoch, format='jd' ) + ( u.min * tof_m )\n",
    "\n",
    "# propagate and reformat the data \n",
    "tle_eph = np.vstack( [ np.hstack(sgprop( tleo, X )) for X in tof_m ] )\n",
    "\n",
    "tle_eph_teme = astropy.coordinates.TEME( \n",
    "    obstime = tle_atime,\n",
    "    x   = tle_eph[:,0] * u.km,\n",
    "    y   = tle_eph[:,1] * u.km,\n",
    "    z   = tle_eph[:,2] * u.km,\n",
    "    v_x = tle_eph[:,3] * u.km/u.s,\n",
    "    v_y = tle_eph[:,4] * u.km/u.s,\n",
    "    v_z = tle_eph[:,5] * u.km/u.s )\n",
    "    \n",
    "tle_eph_gcrs = tle_eph_teme.transform_to( astropy.coordinates.GCRS( obstime=tle_atime ) )    \n",
    "\n",
    "# get the GCRS SV at epoch\n",
    "tP = tle_eph_gcrs[0].cartesian.xyz.to_value(u.km)\n",
    "tV = tle_eph_gcrs[0].velocity.d_xyz.to_value(u.km/u.s)"
   ]
  },
  {
   "cell_type": "code",
   "execution_count": null,
   "id": "5e4e4c12-a110-4e74-b54d-eb1e102e5fb2",
   "metadata": {},
   "outputs": [],
   "source": [
    "P = perturbations.perturbations( D1, D2 )\n",
    "# P.addAll()\n",
    "P.addMoon()\n",
    "P.addSun()\n",
    "P.addJ2()\n",
    "P.addJ3()\n",
    "# P.addAtmosphereExponential()\n",
    "\n",
    "result = solve_ivp(\n",
    "    P,\n",
    "    (0, tof),\n",
    "    np.hstack( (tP, tV) ),\n",
    "    args=(),\n",
    "    rtol=1e-10,\n",
    "    atol=1e-12,\n",
    "    method=DOP853,\n",
    "    dense_output=True,\n",
    "    events=None,\n",
    ")\n",
    "\n",
    "# now compare the errors\n",
    "err = []\n",
    "for i,m in enumerate(tof_m):\n",
    "    # get the converted frame data for comparison\n",
    "    ltP = tle_eph_gcrs[i].cartesian.xyz.to_value(u.km)\n",
    "    ltV = tle_eph_gcrs[i].velocity.d_xyz.to_value(u.km/u.s)\n",
    "    # propagated solution is in seconds\n",
    "    ivps = result.sol(m*60)\n",
    "    # keep the errors\n",
    "    err.append( ivps - np.hstack( (ltP, ltV) ) )\n",
    "err = np.vstack(err)"
   ]
  },
  {
   "cell_type": "code",
   "execution_count": null,
   "id": "9c703364-108b-4de1-94ab-0a06702539bf",
   "metadata": {},
   "outputs": [],
   "source": [
    "plt.close('all')\n",
    "plt.figure( figsize=(15,5) )\n",
    "plt.plot( tof_m / (24*60), np.linalg.norm( err[:,0:3] , axis=1 ) )\n",
    "plt.grid()"
   ]
  }
 ],
 "metadata": {
  "kernelspec": {
   "display_name": "Python 3 (ipykernel)",
   "language": "python",
   "name": "python3"
  },
  "language_info": {
   "codemirror_mode": {
    "name": "ipython",
    "version": 3
   },
   "file_extension": ".py",
   "mimetype": "text/x-python",
   "name": "python",
   "nbconvert_exporter": "python",
   "pygments_lexer": "ipython3",
   "version": "3.10.12"
  }
 },
 "nbformat": 4,
 "nbformat_minor": 5
}
